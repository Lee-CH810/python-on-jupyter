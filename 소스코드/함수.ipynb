{
 "cells": [
  {
   "cell_type": "markdown",
   "metadata": {},
   "source": [
    "## 함수"
   ]
  },
  {
   "cell_type": "code",
   "execution_count": 1,
   "metadata": {},
   "outputs": [
    {
     "name": "stdout",
     "output_type": "stream",
     "text": [
      "3\n",
      "4\n",
      "62\n",
      "27\n",
      "83\n",
      "956\n",
      "26\n",
      "58\n",
      "3\n",
      "78\n",
      "168\n",
      "64\n",
      "78\n"
     ]
    }
   ],
   "source": [
    "def print_list(a):\n",
    "  for i in a:\n",
    "    print(i)\n",
    "\n",
    "a_list = [3, 4, 62, 27, 83, 956, 26, 58, 3, 78, 168, 64, 78]\n",
    "\n",
    "print_list(a_list)"
   ]
  },
  {
   "cell_type": "code",
   "execution_count": 3,
   "metadata": {},
   "outputs": [
    {
     "name": "stdout",
     "output_type": "stream",
     "text": [
      "I am a boy.\n",
      "You are a girl.\n"
     ]
    }
   ],
   "source": [
    "def boy():\n",
    "  print('I am a boy.')\n",
    "  print('You are a girl.')\n",
    "\n",
    "boy()"
   ]
  },
  {
   "cell_type": "code",
   "execution_count": 4,
   "metadata": {},
   "outputs": [
    {
     "name": "stdout",
     "output_type": "stream",
     "text": [
      "1 < 3\n",
      "4 > 3\n",
      "3 == 3\n"
     ]
    }
   ],
   "source": [
    "def compare(a, b):\n",
    "  if a > b:\n",
    "    print(f'{a} > {b}')\n",
    "  elif a < b:\n",
    "    print(f'{a} < {b}')\n",
    "  else:\n",
    "    print(f'{a} == {b}')\n",
    "\n",
    "compare(1, 3)\n",
    "compare(4, 3)\n",
    "compare(3, 3)"
   ]
  },
  {
   "cell_type": "markdown",
   "metadata": {},
   "source": [
    "## 예제: 구구단\n",
    "다음 예와 같이 구구단을 2단부터 9단까지 계산해서 출력.\n",
    "\n",
    "2 * 1 = 2\n",
    "\n",
    "2 * 2 = 4\n",
    "\n",
    "…        \n",
    "\n",
    "9 * 9 = 81"
   ]
  },
  {
   "cell_type": "code",
   "execution_count": 5,
   "metadata": {},
   "outputs": [
    {
     "name": "stdout",
     "output_type": "stream",
     "text": [
      "2 * 1 = 2\n",
      "2 * 2 = 4\n",
      "2 * 3 = 6\n",
      "2 * 4 = 8\n",
      "2 * 5 = 10\n",
      "2 * 6 = 12\n",
      "2 * 7 = 14\n",
      "2 * 8 = 16\n",
      "2 * 9 = 18\n",
      "3 * 1 = 3\n",
      "3 * 2 = 6\n",
      "3 * 3 = 9\n",
      "3 * 4 = 12\n",
      "3 * 5 = 15\n",
      "3 * 6 = 18\n",
      "3 * 7 = 21\n",
      "3 * 8 = 24\n",
      "3 * 9 = 27\n",
      "4 * 1 = 4\n",
      "4 * 2 = 8\n",
      "4 * 3 = 12\n",
      "4 * 4 = 16\n",
      "4 * 5 = 20\n",
      "4 * 6 = 24\n",
      "4 * 7 = 28\n",
      "4 * 8 = 32\n",
      "4 * 9 = 36\n",
      "5 * 1 = 5\n",
      "5 * 2 = 10\n",
      "5 * 3 = 15\n",
      "5 * 4 = 20\n",
      "5 * 5 = 25\n",
      "5 * 6 = 30\n",
      "5 * 7 = 35\n",
      "5 * 8 = 40\n",
      "5 * 9 = 45\n",
      "6 * 1 = 6\n",
      "6 * 2 = 12\n",
      "6 * 3 = 18\n",
      "6 * 4 = 24\n",
      "6 * 5 = 30\n",
      "6 * 6 = 36\n",
      "6 * 7 = 42\n",
      "6 * 8 = 48\n",
      "6 * 9 = 54\n",
      "7 * 1 = 7\n",
      "7 * 2 = 14\n",
      "7 * 3 = 21\n",
      "7 * 4 = 28\n",
      "7 * 5 = 35\n",
      "7 * 6 = 42\n",
      "7 * 7 = 49\n",
      "7 * 8 = 56\n",
      "7 * 9 = 63\n",
      "8 * 1 = 8\n",
      "8 * 2 = 16\n",
      "8 * 3 = 24\n",
      "8 * 4 = 32\n",
      "8 * 5 = 40\n",
      "8 * 6 = 48\n",
      "8 * 7 = 56\n",
      "8 * 8 = 64\n",
      "8 * 9 = 72\n",
      "9 * 1 = 9\n",
      "9 * 2 = 18\n",
      "9 * 3 = 27\n",
      "9 * 4 = 36\n",
      "9 * 5 = 45\n",
      "9 * 6 = 54\n",
      "9 * 7 = 63\n",
      "9 * 8 = 72\n",
      "9 * 9 = 81\n"
     ]
    }
   ],
   "source": [
    "for i in range(2, 10):\n",
    "  for j in range(1, 10):\n",
    "    print(i, '*', j, '=', i * j)"
   ]
  },
  {
   "cell_type": "code",
   "execution_count": 6,
   "metadata": {},
   "outputs": [
    {
     "name": "stdout",
     "output_type": "stream",
     "text": [
      "2 * 1 =  2\n",
      "2 * 2 =  4\n",
      "2 * 3 =  6\n",
      "2 * 4 =  8\n",
      "2 * 5 = 10\n",
      "2 * 6 = 12\n",
      "2 * 7 = 14\n",
      "2 * 8 = 16\n",
      "2 * 9 = 18\n",
      "3 * 1 =  3\n",
      "3 * 2 =  6\n",
      "3 * 3 =  9\n",
      "3 * 4 = 12\n",
      "3 * 5 = 15\n",
      "3 * 6 = 18\n",
      "3 * 7 = 21\n",
      "3 * 8 = 24\n",
      "3 * 9 = 27\n",
      "4 * 1 =  4\n",
      "4 * 2 =  8\n",
      "4 * 3 = 12\n",
      "4 * 4 = 16\n",
      "4 * 5 = 20\n",
      "4 * 6 = 24\n",
      "4 * 7 = 28\n",
      "4 * 8 = 32\n",
      "4 * 9 = 36\n",
      "5 * 1 =  5\n",
      "5 * 2 = 10\n",
      "5 * 3 = 15\n",
      "5 * 4 = 20\n",
      "5 * 5 = 25\n",
      "5 * 6 = 30\n",
      "5 * 7 = 35\n",
      "5 * 8 = 40\n",
      "5 * 9 = 45\n",
      "6 * 1 =  6\n",
      "6 * 2 = 12\n",
      "6 * 3 = 18\n",
      "6 * 4 = 24\n",
      "6 * 5 = 30\n",
      "6 * 6 = 36\n",
      "6 * 7 = 42\n",
      "6 * 8 = 48\n",
      "6 * 9 = 54\n",
      "7 * 1 =  7\n",
      "7 * 2 = 14\n",
      "7 * 3 = 21\n",
      "7 * 4 = 28\n",
      "7 * 5 = 35\n",
      "7 * 6 = 42\n",
      "7 * 7 = 49\n",
      "7 * 8 = 56\n",
      "7 * 9 = 63\n",
      "8 * 1 =  8\n",
      "8 * 2 = 16\n",
      "8 * 3 = 24\n",
      "8 * 4 = 32\n",
      "8 * 5 = 40\n",
      "8 * 6 = 48\n",
      "8 * 7 = 56\n",
      "8 * 8 = 64\n",
      "8 * 9 = 72\n",
      "9 * 1 =  9\n",
      "9 * 2 = 18\n",
      "9 * 3 = 27\n",
      "9 * 4 = 36\n",
      "9 * 5 = 45\n",
      "9 * 6 = 54\n",
      "9 * 7 = 63\n",
      "9 * 8 = 72\n",
      "9 * 9 = 81\n"
     ]
    }
   ],
   "source": [
    "# 다른 풀이\n",
    "def multi(m):\n",
    "  for n in range(1, 10):\n",
    "    print(f'{m} * {n} = {m*n:2d}')\n",
    "\n",
    "for i in range(2, 10):\n",
    "  multi(i)"
   ]
  },
  {
   "cell_type": "code",
   "execution_count": 7,
   "metadata": {},
   "outputs": [
    {
     "name": "stdout",
     "output_type": "stream",
     "text": [
      "35\n"
     ]
    }
   ],
   "source": [
    "def f1(x):\n",
    "  a = 3\n",
    "  b = 5\n",
    "  y = a * x + b\n",
    "  return y\n",
    "\n",
    "c = f1(10)\n",
    "print(c)"
   ]
  },
  {
   "cell_type": "code",
   "execution_count": 9,
   "metadata": {},
   "outputs": [
    {
     "data": {
      "text/plain": [
       "1.0"
      ]
     },
     "execution_count": 9,
     "metadata": {},
     "output_type": "execute_result"
    }
   ],
   "source": [
    "# 삼각형의 넓이 구하는 함수\n",
    "def area(base, height):\n",
    "  A = base * height * 0.5\n",
    "  return A\n",
    "\n",
    "area(2, 1)"
   ]
  },
  {
   "cell_type": "code",
   "execution_count": 11,
   "metadata": {},
   "outputs": [
    {
     "data": {
      "text/plain": [
       "False"
      ]
     },
     "execution_count": 11,
     "metadata": {},
     "output_type": "execute_result"
    }
   ],
   "source": [
    "def quiz():\n",
    "  ans = input('1 + 2 = ')\n",
    "  return 1 + 2 == int(ans)\n",
    "\n",
    "quiz()"
   ]
  },
  {
   "cell_type": "markdown",
   "metadata": {},
   "source": [
    "## 예제: 숫자 읽기 함수(1~10)\n",
    "매개변수로 받은 정수를 한국어로 표기한 문자열을 반환하는 함수 korean_number()를 정의하세요. 단, 매개변수는 1 이상 10 이하의 정수라고 가정합니다."
   ]
  },
  {
   "cell_type": "code",
   "execution_count": 15,
   "metadata": {},
   "outputs": [
    {
     "name": "stdout",
     "output_type": "stream",
     "text": [
      "일\n",
      "삼\n",
      "십\n"
     ]
    }
   ],
   "source": [
    "def korean_number(num):\n",
    "  match num:\n",
    "    case 1:\n",
    "      print('일')\n",
    "    case 2:\n",
    "      print('이')\n",
    "    case 3:\n",
    "      print('삼')\n",
    "    case 4:\n",
    "      print('사')\n",
    "    case 5:\n",
    "      print('오')\n",
    "    case 6:\n",
    "      print('육')\n",
    "    case 7:\n",
    "      print('칠')\n",
    "    case 8:\n",
    "      print('팔')\n",
    "    case 9:\n",
    "      print('구')\n",
    "    case 10:\n",
    "      print('십')\n",
    "\n",
    "korean_number(1)\n",
    "korean_number(3)\n",
    "korean_number(10)"
   ]
  },
  {
   "cell_type": "code",
   "execution_count": null,
   "metadata": {},
   "outputs": [],
   "source": [
    "# 다른 풀이\n",
    "def korean_number(num):\n",
    "    if num == 1:\n",
    "        return '일'\n",
    "    elif num == 2:\n",
    "        return '이'\n",
    "    elif num == 3:\n",
    "        return '삼'\n",
    "    elif num == 4:\n",
    "        return '사'\n",
    "    elif num == 5:\n",
    "        return '오'\n",
    "    elif num == 6:\n",
    "        return '육'\n",
    "    elif num == 7:\n",
    "        return '칠'\n",
    "    elif num == 8:\n",
    "        return '팔'\n",
    "    elif num == 9:\n",
    "        return '구'\n",
    "    elif num == 10:\n",
    "        return '십'"
   ]
  },
  {
   "cell_type": "markdown",
   "metadata": {},
   "source": [
    "## 예제\n",
    "다음 triple() 함수를 완성하세요.\n",
    "\n",
    ">>> def triple(x):\n",
    "...     ██████ █ █ █\n",
    "... \n",
    ">>> triple(2)\n",
    "6\n",
    ">>> triple('x')\n",
    "'xxx'"
   ]
  },
  {
   "cell_type": "code",
   "execution_count": 19,
   "metadata": {},
   "outputs": [
    {
     "data": {
      "text/plain": [
       "'xxx'"
      ]
     },
     "execution_count": 19,
     "metadata": {},
     "output_type": "execute_result"
    }
   ],
   "source": [
    "def triple(x):\n",
    "    return x+x+x\n",
    "\n",
    "triple(2)\n",
    "triple('x')"
   ]
  },
  {
   "cell_type": "markdown",
   "metadata": {},
   "source": [
    "오늘의 날짜 객체를 구하는 코드는 다음과 같습니다.\n",
    "\n",
    ">>> from datetime import datetime\n",
    ">>> today = datetime.today()\n",
    ">>> today\n",
    "datetime.datetime(2021, 3, 21, 15, 46, 1, 94942)\n",
    "\n",
    "위 코드의 today에서 연도를 구하는 방법은 다음과 같습니다.\n",
    "\n",
    ">>> today.year\n",
    "2021\n",
    "\n",
    "태어난 해를 네 자리 숫자로 입력하면 한국 나이를 반환하는 함수 korean_age()를 작성."
   ]
  },
  {
   "cell_type": "code",
   "execution_count": 23,
   "metadata": {},
   "outputs": [],
   "source": [
    "from datetime import datetime\n",
    "today = datetime.today()\n",
    "\n",
    "def korean_age(BirthYear):\n",
    "  age = today.year - BirthYear + 1\n",
    "  return age"
   ]
  },
  {
   "cell_type": "code",
   "execution_count": null,
   "metadata": {},
   "outputs": [],
   "source": [
    "# 다른 풀이\n",
    "\n",
    "def triple(x):\n",
    "    return x * 3\n",
    "\n",
    "def korean_age(birth_year):\n",
    "    from datetime import datetime\n",
    "    today = datetime.today()\n",
    "    return today.year - birth_year + 1\n",
    "\n",
    "\n",
    "if __name__ == '__main__':\n",
    "    print(\"triple(2):\", triple(2))\n",
    "    print(\"triple('x')\", triple('x'))\n",
    "    print(\"korean_age(2000):\", korean_age(2000)"
   ]
  },
  {
   "cell_type": "markdown",
   "metadata": {},
   "source": [
    "## 예제: 이자(단리) 계산\n",
    "\n",
    "원금(Principal), 이율(rate), 기간(time)이 주어졌을 때, 이자(Interest)를 구하는 공식은 다음과 같습니다.\n",
    "I = Prt\n",
    "\n",
    "그리고 원리금(Amount)을 구하는 공식은 다음과 같습니다.\n",
    "A = P(1+rt)"
   ]
  },
  {
   "cell_type": "code",
   "execution_count": 2,
   "metadata": {},
   "outputs": [
    {
     "name": "stdout",
     "output_type": "stream",
     "text": [
      "예1: 1937500.0\n",
      "예2: 22916.666666666668\n"
     ]
    }
   ],
   "source": [
    "# 원금(p), 단리 이율(r), 기간(t)이 주어졌을 때 이자를 구하는 함수 simple_interest()를 작성\n",
    "\n",
    "def simple_interest(p, r, t):\n",
    "  I = p * r * t\n",
    "  return I\n",
    "\n",
    "print(f'예1: {simple_interest(10000000, 0.03875, 5)}')\n",
    "print(f'예2: {simple_interest(1100000, 0.05, 5/12)}')"
   ]
  },
  {
   "cell_type": "code",
   "execution_count": 4,
   "metadata": {},
   "outputs": [
    {
     "name": "stdout",
     "output_type": "stream",
     "text": [
      "예1: 11937500.0\n",
      "예2: 1122916.6666666665\n"
     ]
    }
   ],
   "source": [
    "# 원금(p), 단리 이율(r), 기간(t)이 주어졌을 때 원리금을 계산하는 함수 simple_interest_amount()를 작성\n",
    "\n",
    "def simple_interest_amount(p, r, t):\n",
    "      A = p * (1 + r * t)\n",
    "      return A\n",
    "\n",
    "print(f'예1: {simple_interest_amount(10000000, 0.03875, 5)}')\n",
    "print(f'예2: {simple_interest_amount(1100000, 0.05, 5/12)}')"
   ]
  },
  {
   "cell_type": "code",
   "execution_count": null,
   "metadata": {},
   "outputs": [],
   "source": [
    "# 다른 풀이\n",
    "\n",
    "def simple_interest(p, r, t):\n",
    "    return p * r * t\n",
    "    \n",
    "def simple_interest_amount(p, r, t):\n",
    "    return p * (1 + r * t)\n",
    "\n",
    "if __name__ == '__main__':\n",
    "    print('Quiz 1')\n",
    "    print('ex 1:', simple_interest(10000000, 0.03875, 5))\n",
    "    print('ex 2:', simple_interest(1100000, 0.05, 5/12))\n",
    "\n",
    "    print('\\nQuiz 2')\n",
    "    print('ex 1:', simple_interest_amount(10000000, 0.03875, 5))\n",
    "    print('ex 2:', simple_interest_amount(1100000, 0.05, 5/12))"
   ]
  },
  {
   "attachments": {},
   "cell_type": "markdown",
   "metadata": {},
   "source": [
    "## 예제: 복리 계산\n",
    "복리 예금의 원금(p), 연이율(r), 기간(t), 복리 횟수(n)에 대한 원리금을 계산하는 함수 compound_interest_amount()를 작성하세요.\n",
    "\n",
    "원금(p) = 1500000\n",
    "\n",
    "연이율(r) = 0.043\n",
    "\n",
    "예 1: 6년간 매분기 이자를 주는 경우(t=6, n=4)\n",
    "\n",
    "예 2: 6년간 2년마다 이자를 주는 경우(t=6, n=1/2)"
   ]
  },
  {
   "cell_type": "code",
   "execution_count": 1,
   "metadata": {},
   "outputs": [
    {
     "name": "stdout",
     "output_type": "stream",
     "text": [
      "예 1: 1938836.8221341055\n",
      "예 2: 1921236.0840000005\n"
     ]
    }
   ],
   "source": [
    "def compound_interest_amount(p, r, t, n):\n",
    "  P = p * (1 + r / n) ** (n * t)\n",
    "  return P\n",
    "\n",
    "print(f'예 1: {compound_interest_amount(1500000, 0.043, 6, 4)}')\n",
    "print(f'예 2: {compound_interest_amount(1500000, 0.043, 6, 1/2)}')"
   ]
  },
  {
   "cell_type": "code",
   "execution_count": 2,
   "metadata": {},
   "outputs": [
    {
     "name": "stdout",
     "output_type": "stream",
     "text": [
      "1938836.8221341055\n",
      "1921236.0840000005\n"
     ]
    }
   ],
   "source": [
    "# 다른 풀이\n",
    "def compound_interest_amount(p, r, t, n):\n",
    "    return p * (1 + r / n) ** (n * t)\n",
    "\n",
    "if __name__ == '__main__':\n",
    "    # ex 1\n",
    "    print(compound_interest_amount(1500000, 0.043, 6, 4))\n",
    "\n",
    "    # ex 2\n",
    "    print(compound_interest_amount(1500000, 0.043, 6, 1/2))"
   ]
  },
  {
   "attachments": {},
   "cell_type": "markdown",
   "metadata": {},
   "source": [
    "## 람다"
   ]
  },
  {
   "cell_type": "code",
   "execution_count": 3,
   "metadata": {},
   "outputs": [
    {
     "data": {
      "text/plain": [
       "30"
      ]
     },
     "execution_count": 3,
     "metadata": {},
     "output_type": "execute_result"
    }
   ],
   "source": [
    "def hap(x, y):\n",
    "  return x + y\n",
    "\n",
    "hap(10, 20)"
   ]
  },
  {
   "cell_type": "code",
   "execution_count": 18,
   "metadata": {},
   "outputs": [
    {
     "data": {
      "text/plain": [
       "30"
      ]
     },
     "execution_count": 18,
     "metadata": {},
     "output_type": "execute_result"
    }
   ],
   "source": [
    "# 상단의 코드를 람다 형식으로 전환\n",
    "(lambda x,y : x+y)(10, 20)"
   ]
  },
  {
   "cell_type": "code",
   "execution_count": 31,
   "metadata": {},
   "outputs": [
    {
     "name": "stdout",
     "output_type": "stream",
     "text": [
      "[0, 1, 4, 9, 16]\n"
     ]
    }
   ],
   "source": [
    "# map()\n",
    "list(map(lambda x : x ** 2, range(5)))\n",
    "\n",
    "# 람다가 아닌 보통의 함수로 표현\n",
    "def square(x):\n",
    "  return x ** 2\n",
    "\n",
    "a = [0, 0, 0, 0, 0]\n",
    "for i in range(5):\n",
    "  a.append(square(i))\n",
    "print(a)\n"
   ]
  },
  {
   "cell_type": "code",
   "execution_count": 35,
   "metadata": {},
   "outputs": [
    {
     "data": {
      "text/plain": [
       "11"
      ]
     },
     "execution_count": 35,
     "metadata": {},
     "output_type": "execute_result"
    }
   ],
   "source": [
    "# reduce()\n",
    "from functools import reduce\n",
    "reduce(lambda x, y : x + y, [0, 1, 2, 3, 4], 1)"
   ]
  },
  {
   "cell_type": "code",
   "execution_count": 37,
   "metadata": {},
   "outputs": [
    {
     "data": {
      "text/plain": [
       "[0, 1, 2, 3, 4]"
      ]
     },
     "execution_count": 37,
     "metadata": {},
     "output_type": "execute_result"
    }
   ],
   "source": [
    "# filter()\n",
    "list(filter(lambda x: x < 5, range(10)))"
   ]
  },
  {
   "cell_type": "code",
   "execution_count": 38,
   "metadata": {},
   "outputs": [
    {
     "data": {
      "text/plain": [
       "[1, 3, 5, 7, 9]"
      ]
     },
     "execution_count": 38,
     "metadata": {},
     "output_type": "execute_result"
    }
   ],
   "source": [
    "# 홀수만 돌려주는 filter\n",
    "list(filter(lambda x: x % 2 == 1, range(10)))"
   ]
  },
  {
   "cell_type": "code",
   "execution_count": 40,
   "metadata": {},
   "outputs": [
    {
     "data": {
      "text/plain": [
       "[1, 3, 5, 7, 9]"
      ]
     },
     "execution_count": 40,
     "metadata": {},
     "output_type": "execute_result"
    }
   ],
   "source": [
    "# x % 2의 결과는 홀수일 경우에 1, 짝수일 경우에 0\n",
    "# 1, 0으로 결과가 나오므로 이를 부울값처럼 이용할 수 있음.\n",
    "list(filter(lambda x: x % 2, range(10)))"
   ]
  },
  {
   "attachments": {},
   "cell_type": "markdown",
   "metadata": {},
   "source": [
    "## 예제: 놀이공원\n",
    "놀이 기구의 이름과 키 제한을 나타낸 문자열을 입력받아서, 놀이 기구의 이름, 탑승 가능한 키의 하한(下限)과 상한(上限)을 각 행에 출력합니다.\n",
    "\n",
    "코드는 다음과 작성하며, ch03 폴더 아래에 파일명을 ridereader.py로 저장\n",
    "\n",
    "def read(text):\n",
    "    # 이곳에 코드를 작성하세요.\n",
    "    return ridename, cmmin, cmmax\n",
    "\n",
    "\n",
    "if __name__ == \"__main__\":\n",
    "    ridename, cmmin, cmmax = read(input())\n",
    "    print(\"이름:\", ridename)\n",
    "    print(\"하한:\", cmmin)\n",
    "    print(\"상한:\", cmmax)"
   ]
  },
  {
   "cell_type": "code",
   "execution_count": 56,
   "metadata": {},
   "outputs": [
    {
     "name": "stdout",
     "output_type": "stream",
     "text": [
      "이름: 툼 오브 호러\n",
      "하한: None\n",
      "상한: None\n"
     ]
    }
   ],
   "source": [
    "def read(text):\n",
    "    ridename = text.split(':')[0]\n",
    "    limit = text.split(':')[1].strip()\n",
    "    if limit.find('-') != -1:\n",
    "      cmmin = None\n",
    "      cmmax = None\n",
    "    else:\n",
    "      limit = limit.split('cm')\n",
    "      cmmin = limit[0]\n",
    "      if limit[1].find('~') != -1:\n",
    "        cmmax = limit[1].strip('~')\n",
    "      else:\n",
    "        cmmax = None\n",
    "  \n",
    "    return ridename, cmmin, cmmax\n",
    "\n",
    "\n",
    "if __name__ == \"__main__\":\n",
    "    ridename, cmmin, cmmax = read(input())\n",
    "    print(\"이름:\", ridename)\n",
    "    print(\"하한:\", cmmin)\n",
    "    print(\"상한:\", cmmax)\n"
   ]
  },
  {
   "cell_type": "code",
   "execution_count": null,
   "metadata": {},
   "outputs": [],
   "source": [
    "# 다른 풀이\n",
    "def read(text):\n",
    "    ridename, limit = map(str.strip, text.split(':'))\n",
    "    \n",
    "    cmmin = cmmax = None\n",
    "    if '~' in limit:\n",
    "        cmmin, cmmax = map(lambda x: int(x.replace('cm', '')), limit.split('~'))\n",
    "    elif \"이상\" in limit:\n",
    "        cmmin = int(limit.split(\"cm\")[0])\n",
    "\n",
    "    return ridename, cmmin, cmmax\n",
    "\n",
    "\n",
    "if __name__ == \"__main__\":\n",
    "    ridename, cmmin, cmmax = read(input())\n",
    "    print(\"이름:\", ridename)\n",
    "    print(\"하한:\", cmmin)\n",
    "    print(\"상한:\", cmmax)"
   ]
  }
 ],
 "metadata": {
  "kernelspec": {
   "display_name": "Python 3.11.1 64-bit",
   "language": "python",
   "name": "python3"
  },
  "language_info": {
   "codemirror_mode": {
    "name": "ipython",
    "version": 3
   },
   "file_extension": ".py",
   "mimetype": "text/x-python",
   "name": "python",
   "nbconvert_exporter": "python",
   "pygments_lexer": "ipython3",
   "version": "3.11.1"
  },
  "orig_nbformat": 4,
  "vscode": {
   "interpreter": {
    "hash": "d6890034c7ddd4fa50d8eca5fc67f020bb6f06e6f5906cded6c58a82aa66a825"
   }
  }
 },
 "nbformat": 4,
 "nbformat_minor": 2
}
