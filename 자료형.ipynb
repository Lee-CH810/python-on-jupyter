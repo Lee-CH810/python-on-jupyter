{
 "cells": [
  {
   "attachments": {},
   "cell_type": "markdown",
   "metadata": {},
   "source": [
    "## 자료형"
   ]
  },
  {
   "attachments": {},
   "cell_type": "markdown",
   "metadata": {},
   "source": [
    "## 예제: 회문 판별 함수 만들기\n",
    "문제 1\n",
    "주어진 단어가 회문인지 판별하는 함수 palindrome()을 작성하세요. 단, 문자열 입력은 모두 소문자로 이뤄지며 공백을 포함하지 않는다고 가정합니다."
   ]
  },
  {
   "cell_type": "code",
   "execution_count": 4,
   "metadata": {},
   "outputs": [
    {
     "name": "stdout",
     "output_type": "stream",
     "text": [
      "False\n"
     ]
    }
   ],
   "source": [
    "def palindrome(word):\n",
    "  if word == word[::-1]:\n",
    "    return True\n",
    "  else:\n",
    "    return False\n",
    "  \n",
    "print(palindrome(input()))"
   ]
  },
  {
   "attachments": {},
   "cell_type": "markdown",
   "metadata": {},
   "source": [
    "문제 2\n",
    "대문자와 소문자가 섞여 있더라도 회문으로 판정하도록 함수를 개선하세요."
   ]
  },
  {
   "cell_type": "code",
   "execution_count": 7,
   "metadata": {},
   "outputs": [
    {
     "name": "stdout",
     "output_type": "stream",
     "text": [
      "False\n"
     ]
    }
   ],
   "source": [
    "def palindrome(word):\n",
    "  word = word.lower()\n",
    "  if word == word[::-1]:\n",
    "    return True\n",
    "  else:\n",
    "    return False\n",
    "  \n",
    "print(palindrome(input()))"
   ]
  },
  {
   "attachments": {},
   "cell_type": "markdown",
   "metadata": {},
   "source": [
    "공백이 섞여 있더라도 회문으로 판정하도록 함수를 개선하세요."
   ]
  },
  {
   "cell_type": "code",
   "execution_count": 11,
   "metadata": {},
   "outputs": [
    {
     "name": "stdout",
     "output_type": "stream",
     "text": [
      "True\n"
     ]
    }
   ],
   "source": [
    "def palindrome(word):\n",
    "  word = word.replace(' ', '')\n",
    "  word = word.lower()\n",
    "  if word == word[::-1]:\n",
    "    return True\n",
    "  else:\n",
    "    return False\n",
    "  \n",
    "print(palindrome(input()))"
   ]
  },
  {
   "cell_type": "code",
   "execution_count": null,
   "metadata": {},
   "outputs": [],
   "source": [
    "# 다른 풀이\n",
    "# 리턴값에 따로 True, False를 두지 않고 식의 결과를 넣어준 모습. 조금 더 간결하게 만드는 방법이 될 듯.\n",
    "def palindrome(s):\n",
    "    s = s.lower()\n",
    "    s = s.replace(' ', '')\n",
    "    return s[:] == s[::-1]\n",
    "\n",
    "if __name__ == '__main__':\n",
    "    for x in ['anna', 'banana', 'Anna', 'My gym']:\n",
    "        if palindrome(x):\n",
    "            print(f\"'{x}' is a panlindrome\")\n",
    "        else:\n",
    "            print(f\"'{x}' is not a palindrome\")"
   ]
  },
  {
   "cell_type": "code",
   "execution_count": 19,
   "metadata": {},
   "outputs": [
    {
     "data": {
      "text/plain": [
       "[2, 3, 7, 11]"
      ]
     },
     "execution_count": 19,
     "metadata": {},
     "output_type": "execute_result"
    }
   ],
   "source": [
    "prime = [2, 3, 5, 7, 11]\n",
    "prime.pop(2)\n",
    "prime"
   ]
  },
  {
   "cell_type": "code",
   "execution_count": 21,
   "metadata": {},
   "outputs": [
    {
     "name": "stdout",
     "output_type": "stream",
     "text": [
      "[90, 85, 70] 245 81.66666666666667\n",
      "[88, 79, 92] 259 86.33333333333333\n",
      "[100, 100, 100] 300 100.0\n",
      "[90, 60, 70] 220 73.33333333333333\n"
     ]
    }
   ],
   "source": [
    "chulsu = [90, 85, 70]\n",
    "younghee = [88, 79, 92]\n",
    "yong = [100, 100, 100]\n",
    "minsu = [90, 60, 70]\n",
    "\n",
    "students = [chulsu, younghee, yong, minsu]\n",
    "\n",
    "for scores in students:\n",
    "  total = 0\n",
    "  for s in scores:\n",
    "    total = total + s\n",
    "  average = total / 3\n",
    "  print(scores, total, average)"
   ]
  },
  {
   "attachments": {},
   "cell_type": "markdown",
   "metadata": {},
   "source": [
    "## 예제: 각 자리 숫자의 합을 구하는 함수(리스트를 이용)\n",
    "정수 num을 매개변수로 받아 각 자리 숫자(digit)의 합을 계산하는 sumOfDigits() 함수를 작성하세요. 단, 나눗셈을 이용하지 말고 풀어보세요."
   ]
  },
  {
   "cell_type": "code",
   "execution_count": 24,
   "metadata": {},
   "outputs": [
    {
     "name": "stdout",
     "output_type": "stream",
     "text": [
      "21\n"
     ]
    }
   ],
   "source": [
    "def sumOfDigits(num):\n",
    "  intTstr = str(num)\n",
    "  strTlist = list(intTstr)\n",
    "  total = 0\n",
    "  for i in strTlist:\n",
    "    total += int(i)\n",
    "  return total\n",
    "x = int(input())\n",
    "print(sumOfDigits(x))"
   ]
  },
  {
   "attachments": {},
   "cell_type": "markdown",
   "metadata": {},
   "source": [
    "예제: 줄기와 잎 그림\n",
    "score = [0, 0, 2, 4, 7, 7, 9, 11, 11, 13, 18, 20]\n",
    "\n",
    "stem_leaf 리스트를 만들어 선수들의 득점을 줄기와 잎 그림 형식으로 저장하려고합니다.\n",
    "\n",
    "stem_leaf = [[], [], []]\n",
    "\n",
    "stem_leaf에 데이터를 채우는 프로그램을 작성하세요.\n"
   ]
  },
  {
   "cell_type": "code",
   "execution_count": 26,
   "metadata": {},
   "outputs": [
    {
     "data": {
      "text/plain": [
       "[[0, 0, 2, 4, 7, 7, 9], [1, 1, 3, 8], [0]]"
      ]
     },
     "execution_count": 26,
     "metadata": {},
     "output_type": "execute_result"
    }
   ],
   "source": [
    "score = [0, 0, 2, 4, 7, 7, 9, 11, 11, 13, 18, 20]\n",
    "\n",
    "stem_leaf = [[],[],[]]\n",
    "for s in score:\n",
    "  match s // 10:\n",
    "    case 0:\n",
    "      stem_leaf[0].append(s)\n",
    "    case 1:\n",
    "      stem_leaf[1].append(s % 10)\n",
    "    case 2:\n",
    "      stem_leaf[2].append(s % 10)\n",
    "stem_leaf"
   ]
  },
  {
   "attachments": {},
   "cell_type": "markdown",
   "metadata": {},
   "source": [
    "문제 2\n",
    "stem_leaf를 다음과 같은 형태로 프린트하는 프로그램을 작성하세요.\n",
    "\n",
    "0: [0, 0, 2, 4, 7, 7, 9]\n",
    "\n",
    "1: [1, 1, 3, 8]\n",
    "\n",
    "2: [0]"
   ]
  },
  {
   "cell_type": "code",
   "execution_count": 27,
   "metadata": {},
   "outputs": [
    {
     "name": "stdout",
     "output_type": "stream",
     "text": [
      "0: [0, 0, 2, 4, 7, 7, 9]\n",
      "1: [1, 1, 3, 8]\n",
      "2: [0]\n"
     ]
    }
   ],
   "source": [
    "score = [0, 0, 2, 4, 7, 7, 9, 11, 11, 13, 18, 20]\n",
    "\n",
    "stem_leaf = [[],[],[]]\n",
    "for s in score:\n",
    "  match s // 10:\n",
    "    case 0:\n",
    "      stem_leaf[0].append(s)\n",
    "    case 1:\n",
    "      stem_leaf[1].append(s % 10)\n",
    "    case 2:\n",
    "      stem_leaf[2].append(s % 10)\n",
    "\n",
    "for i in range(3):\n",
    "  print(f'{i}: {stem_leaf[i]}')"
   ]
  },
  {
   "cell_type": "code",
   "execution_count": null,
   "metadata": {},
   "outputs": [],
   "source": [
    "# 다른 풀이\n",
    "# 문제 1번에서 divmod를 사용함으로써 내가 match-case를 사용했던 것보다 간결하게 코드를 끝마침.\n",
    "score = [0, 0, 2, 4, 7, 7, 9]\n",
    "score += [11, 11, 13, 18]\n",
    "score += [20]\n",
    "\n",
    "stem_leaf = [[], [], []]\n",
    "\n",
    "# ex 1\n",
    "\n",
    "for s in score:\n",
    "    d, m = divmod(s, 10)\n",
    "    stem_leaf[d].append(m)\n",
    "\n",
    "# ex 2\n",
    "\n",
    "for i in range(len(stem_leaf)):\n",
    "    print(f'{i}: {stem_leaf[i]}')"
   ]
  },
  {
   "attachments": {},
   "cell_type": "markdown",
   "metadata": {},
   "source": [
    "## 예제: 각 자리 숫자의 합을 구하는 함수(map()을 이용)"
   ]
  },
  {
   "cell_type": "code",
   "execution_count": 28,
   "metadata": {},
   "outputs": [
    {
     "name": "stdout",
     "output_type": "stream",
     "text": [
      "13\n"
     ]
    }
   ],
   "source": [
    "def sumOfDigits(num):\n",
    "  digit = map(int,list(num))\n",
    "  return sum(digit)\n",
    "\n",
    "print(sumOfDigits(input()))"
   ]
  },
  {
   "attachments": {},
   "cell_type": "markdown",
   "metadata": {},
   "source": [
    "## 예제: 소수 구하기\n",
    "일일이 배수를 지워나가며 찾고자 하는 범위(예: 30 이하)의 소수를 구하는 것이 문제입니다. 수작업으로 하지 말고 반복문을 사용하세요."
   ]
  },
  {
   "cell_type": "code",
   "execution_count": 35,
   "metadata": {},
   "outputs": [
    {
     "data": {
      "text/plain": [
       "[2, 3, 5, 7]"
      ]
     },
     "execution_count": 35,
     "metadata": {},
     "output_type": "execute_result"
    }
   ],
   "source": [
    "r = int(input())\n",
    "L = list(range(2, r))\n",
    "\n",
    "for i in range(r):\n",
    "  for j in range(2, r + 1):\n",
    "    if j * (i + 2) in L:\n",
    "      L.remove(j * (i + 2))\n",
    "\n",
    "L"
   ]
  },
  {
   "cell_type": "code",
   "execution_count": 34,
   "metadata": {},
   "outputs": [
    {
     "name": "stdout",
     "output_type": "stream",
     "text": [
      "[2, 3, 5, 7]\n"
     ]
    }
   ],
   "source": [
    "# 다른 풀이\n",
    "from math import sqrt\n",
    "\n",
    "def prime(n):\n",
    "    N = list(range(2, n + 1))\n",
    "\n",
    "    i = 0\n",
    "    while i <= sqrt(n) and len(N) > i:\n",
    "        #print('\\ncheck multiple of ', N[i])\n",
    "        j = i\n",
    "        while i <= j <= n and len(N) > j:\n",
    "            #print(f'N[{j}]: {N[j]}', end='')\n",
    "            if N[j] != N[i] and N[j] % N[i] == 0:\n",
    "                del N[j]\n",
    "                #print(' <= deleted')\n",
    "                if len(N) == j:\n",
    "                    break\n",
    "            else:\n",
    "                #print('')\n",
    "                j += 1\n",
    "        if len(N) == i:\n",
    "            break\n",
    "        else:\n",
    "            i += 1\n",
    "\n",
    "    #print(f'\\nprime numbers under {n}: ', end='')\n",
    "    print(N)\n",
    "\n",
    "if __name__ == '__main__':\n",
    "    prime(int(input()))"
   ]
  },
  {
   "cell_type": "code",
   "execution_count": 36,
   "metadata": {},
   "outputs": [
    {
     "name": "stdout",
     "output_type": "stream",
     "text": [
      "[2, 3, 5, 7]\n"
     ]
    }
   ],
   "source": [
    "# 다른 풀이\n",
    "def prime(range_num):\n",
    "    num_list = list(range(2, range_num + 1))\n",
    "\n",
    "    index = 0\n",
    "    while index < len(num_list):\n",
    "        num = num_list[index]\n",
    "        num_list = list(filter(lambda x: x == num or x % num, num_list))\n",
    "        index += 1\n",
    "\n",
    "    print(num_list)\n",
    "\n",
    "\n",
    "if __name__ == '__main__':\n",
    "    prime(int(input()))"
   ]
  },
  {
   "cell_type": "code",
   "execution_count": 39,
   "metadata": {},
   "outputs": [],
   "source": [
    "# 다른 풀이\n",
    "def prime(snum):\n",
    "    print(f\"Prime Number List Of {snum}\")\n",
    "    ls = []\n",
    "    if int(snum) >=2:\n",
    "        ls = [2] #2는 기본으로 넣어줌\n",
    "    for s in range(3,int(snum)+1):\n",
    "        isPrime = False       \n",
    "        if s%2 !=0: #2로 나눠지는 짝수는 제외,범위를 반으로 줄임.\n",
    "            for s2 in range(3, s+1, 2): #3 +2값들만 나누기하면됨.\n",
    "                isPrime = True\n",
    "                if s%s2 ==0 and s !=s2:\n",
    "                    isPrime = False\n",
    "                    break   #그이전에 나눠지면 소수 아님,바로 빠져나옴.                 \n",
    "        if isPrime == True:\n",
    "            ls.append(s)           \n",
    "    print(f\"{ls}\")  "
   ]
  },
  {
   "attachments": {},
   "cell_type": "markdown",
   "metadata": {},
   "source": [
    "## 예제: 진법 변환\n",
    "십진수를 입력받아 그 숫자에 해당하는 이진수의 각 자리를 리스트로 출력하는 프로그램을 작성하세요. (순서에 유의)"
   ]
  },
  {
   "cell_type": "code",
   "execution_count": 44,
   "metadata": {},
   "outputs": [
    {
     "data": {
      "text/plain": [
       "[1, 1, 0, 1]"
      ]
     },
     "execution_count": 44,
     "metadata": {},
     "output_type": "execute_result"
    }
   ],
   "source": [
    "binary = bin(int(input())).strip('0b')\n",
    "binList = list(map(int, list(binary)))\n",
    "binList"
   ]
  },
  {
   "cell_type": "code",
   "execution_count": 45,
   "metadata": {},
   "outputs": [
    {
     "name": "stdout",
     "output_type": "stream",
     "text": [
      "[1, 1, 0, 1]\n"
     ]
    }
   ],
   "source": [
    "# 다른 풀이\n",
    "d = int(input())\n",
    "m = d\n",
    "b = []\n",
    "\n",
    "while True:\n",
    "    d, m = divmod(d, 2)\n",
    "    b.insert(0, m)\n",
    "    if d == 0:\n",
    "        break\n",
    "\n",
    "print(b)"
   ]
  },
  {
   "attachments": {},
   "cell_type": "markdown",
   "metadata": {},
   "source": [
    "## 튜플"
   ]
  },
  {
   "cell_type": "code",
   "execution_count": 46,
   "metadata": {},
   "outputs": [
    {
     "name": "stdout",
     "output_type": "stream",
     "text": [
      "20 10\n"
     ]
    }
   ],
   "source": [
    "c = 10\n",
    "d = 20\n",
    "c, d = d, c                 \n",
    "print(c, d)"
   ]
  },
  {
   "cell_type": "code",
   "execution_count": 50,
   "metadata": {},
   "outputs": [
    {
     "name": "stdout",
     "output_type": "stream",
     "text": [
      "1 2 (3, 5, 6, 7, 9, 10)\n"
     ]
    }
   ],
   "source": [
    "def magu_print(x, y, *rest):\n",
    "  print(x, y, rest)\n",
    "\n",
    "magu_print(1, 2, 3, 5, 6, 7, 9, 10)"
   ]
  },
  {
   "attachments": {},
   "cell_type": "markdown",
   "metadata": {},
   "source": [
    "## 예제: 내일의 날짜 구하기\n",
    "사용자로부터 날짜를 나타내는 세 개의 숫자를 입력받습니다. 첫 번째 숫자는 연도를 나타내는 네 자리 숫자이고, 두 번째 숫자는 월을, 세 번째 숫자는 일을 나타냅니다.\n",
    "\n",
    "입력받은 날짜를 mm/dd/yyyy 형식으로 출력합니다. 월을 두 자리 숫자(01, 02, 03, ..., 12)로, 일을 두 자리 숫자(01, 02, 03, ..., 31)로, 연도를 네 자리 숫자로 나타냅니다.\n",
    "\n",
    "입력받은 날짜의 다음 날에 해당하는 날짜도 같은 형식으로 출력합니다. 단, 윤년은 무시합니다(2월은 항상 28일까지 있다고 가정합니다)."
   ]
  },
  {
   "cell_type": "code",
   "execution_count": 72,
   "metadata": {},
   "outputs": [
    {
     "name": "stdout",
     "output_type": "stream",
     "text": [
      "02/28/2018\n",
      "03/01/2018\n"
     ]
    }
   ],
   "source": [
    "lastOfMonth = [31, 28, 31, 30, 31, 30, 31, 31, 30, 31, 30, 31]\n",
    "def stringMonth(intMonth):\n",
    "  if intMonth < 10:\n",
    "    return '0' + str(intMonth)\n",
    "  else:\n",
    "    return str(intMonth)\n",
    "\n",
    "def stringDay(intDay):\n",
    "  if intDay < 10:\n",
    "    return '0' + str(intDay)\n",
    "  else:\n",
    "    return str(intDay)\n",
    "\n",
    "dateString = input()\n",
    "dateList = dateString.split()\n",
    "\n",
    "year = dateList[0]\n",
    "month = dateList[1]\n",
    "day = dateList[2]\n",
    "\n",
    "intYear = int(year)\n",
    "intMonth = int(month)\n",
    "intDay = int(day)\n",
    "\n",
    "print(stringMonth(intMonth)+'/'+stringDay(intDay)+'/'+year)\n",
    "if intDay < lastOfMonth[intMonth - 1]:\n",
    "  print(month+'/'+stringDay(intDay+1)+'/'+year)\n",
    "else:\n",
    "  if intMonth < 12:\n",
    "    print(stringMonth(intMonth + 1)+'/01/'+year)\n",
    "  else:\n",
    "    print(f'01/01/{intYear + 1}')"
   ]
  },
  {
   "cell_type": "code",
   "execution_count": null,
   "metadata": {},
   "outputs": [],
   "source": [
    "# 다른 풀이\n",
    "def read_date():\n",
    "    year, month, day = tuple(map(int, input().split()))\n",
    "    return year, month, day\n",
    "\n",
    "def print_date(date):\n",
    "    year, month, day = date\n",
    "    print(\"%02d/%02d/%04d\" % (month, day, year))\n",
    "\n",
    "def advance_day(date):\n",
    "    year, month, day = date\n",
    "    \n",
    "    # end_of_month = (month == 1 and day == 31) or \\\n",
    "               # (month == 2 and day == 28) or \\\n",
    "               # (month == 3 and day == 31) or \\\n",
    "               # (month == 4 and day == 30) or \\\n",
    "               # (month == 5 and day == 31) or \\\n",
    "               # (month == 6 and day == 30) or \\\n",
    "               # (month == 7 and day == 31) or \\\n",
    "               # (month == 8 and day == 31) or \\\n",
    "               # (month == 9 and day == 30) or \\\n",
    "               # (month == 10 and day == 31) or \\\n",
    "               # (month == 11 and day == 30) or \\\n",
    "               # (month == 12 and day == 31)\n",
    "    \n",
    "    #end_of_month = (month in [1, 3, 5, 7, 8, 10, 12] and day == 31) or \\\n",
    "    #                     (month in [4, 6, 9, 11] and day == 30) or \\\n",
    "    #                     (month == 2 and day == 28)\n",
    "    \n",
    "    end_of_month = (month, day) in [(1, 31), (2, 28), (3, 31), (4, 30), (5,\n",
    "        31), (6, 30), (7, 31), (8, 31), (9, 30), (10, 31), (11, 30), (12, 31)]\n",
    "    \n",
    "    end_of_year = month == 12 and day == 31\n",
    "    \n",
    "    if end_of_month:\n",
    "        if end_of_year:\n",
    "            year += 1\n",
    "            month = 1\n",
    "            day = 1\n",
    "        else:\n",
    "            month += 1\n",
    "            day = 1\n",
    "    else:\n",
    "        day += 1\n",
    "    \n",
    "    return year, month, day\n",
    "    \n",
    "if __name__ == \"__main__\":\n",
    "    today = read_date()\n",
    "    print_date(today)\n",
    "    tomorrow = advance_day(today)\n",
    "    print_date(tomorrow)"
   ]
  },
  {
   "attachments": {},
   "cell_type": "markdown",
   "metadata": {},
   "source": [
    "## 딕셔너리"
   ]
  },
  {
   "cell_type": "code",
   "execution_count": 73,
   "metadata": {},
   "outputs": [
    {
     "data": {
      "text/plain": [
       "'1. A reference book containing an ...'"
      ]
     },
     "execution_count": 73,
     "metadata": {},
     "output_type": "execute_result"
    }
   ],
   "source": [
    "dic = {}               # dic이라는 이름으로 비어있는 딕셔너리를 만든다.\n",
    "dic['dictionary'] = '1. A reference book containing an ...'\n",
    "dic['python'] = 'Any of various nonvenomous snakes of the ...'\n",
    "dic['dictionary']      # dic아, 'dictionary'가 뭐니?"
   ]
  },
  {
   "attachments": {},
   "cell_type": "markdown",
   "metadata": {},
   "source": [
    "## 예제: 숫자 읽기(0~9)\n",
    "매개변수로 입력받은 정수에 해당하는 한글 문자열을 반환하는 함수 korean_number()를 if 문을 사용하지 말고 작성하세요. 단, 사용자는 0 이상 9 이하의 정수 중 하나를 입력한다고 가정합니다."
   ]
  },
  {
   "cell_type": "code",
   "execution_count": 76,
   "metadata": {},
   "outputs": [
    {
     "data": {
      "text/plain": [
       "'구'"
      ]
     },
     "execution_count": 76,
     "metadata": {},
     "output_type": "execute_result"
    }
   ],
   "source": [
    "numberOfKorean = {0:'영', 1:'일', 2:'이', 3:'삼', 4:'사', 5:'오', 6:'육', 7:'칠', 8:'팔', 9:'구'}\n",
    "def korean_number(num):\n",
    "  return numberOfKorean[num]\n",
    "korean_number(9)"
   ]
  },
  {
   "attachments": {},
   "cell_type": "markdown",
   "metadata": {},
   "source": [
    "## 예제: 정신 질환\n",
    "다음 txt는 정신질환의 명칭을 한국어와 영어 용어로 나열한 것입니다.\n",
    "\n",
    "txt = '''신경발달장애 Neurodevelopmental Disorders\n",
    "조현병 스펙트럼 및 기타 정신병적 장애 Schizophrenia Spectrum and Other Psychotic Disorders\n",
    "양극성 및 관련 장애 Bipolar and Related Disorders\n",
    "우울장애 Depressive Disorders\n",
    "불안장애 Anxiety Disorder\n",
    "강박 및 관련 장애 Obsessive－Compulsive and Related Disorders\n",
    "외상 및 스트레스 관련 장애 Trauma－and Stressor－Related Disorders\n",
    "해리장애 Dissociative Disorders\n",
    "신체증상 및 관련 장애 Somatic Symptom and Related Disorders\n",
    "급식 및 섭식장애 Feeding and Eating Disorders\n",
    "배설장애 Elimination Disorders\n",
    "수면－각성 장애 Sleep－Wake Disorders\n",
    "성기능부전 Sexual Dysfunctions\n",
    "성별 불쾌감 Gender Dysphoria\n",
    "파괴적, 충동조절 및 품행 장애 Disruptive, Impulse－Control, and Conduct Disorders\n",
    "물질관련 및 중독 장애 Substance－Related and Addictive Disorders\n",
    "신경인지장애 Neurocognitive Disorders\n",
    "성격장애 Personality Disorders\n",
    "변태성욕장애 Paraphilic Disorders\n",
    "기타 정신질환 Other Mental Disorders'''\n",
    "\n",
    "txt를 읽어 한국어와 영어 명칭을 각각 키와 값으로 갖는 딕셔너리를 생성하는 코드를 작성하세요"
   ]
  },
  {
   "cell_type": "code",
   "execution_count": 82,
   "metadata": {},
   "outputs": [
    {
     "data": {
      "text/plain": [
       "{'신경발달장애': 'Neurodevelopmental Disorders',\n",
       " '조현병 스펙트럼 및 기타 정신병적 장애': 'Schizophrenia Spectrum and Other Psychotic Disorders',\n",
       " '양극성 및 관련 장애': 'Bipolar and Related Disorders',\n",
       " '우울장애': 'Depressive Disorders',\n",
       " '불안장애': 'Anxiety Disorder',\n",
       " '강박 및 관련 장애': 'Obsessive－Compulsive and Related Disorders',\n",
       " '외상 및 스트레스 관련 장애': 'Trauma－and Stressor－Related Disorders',\n",
       " '해리장애': 'Dissociative Disorders',\n",
       " '신체증상 및 관련 장애': 'Somatic Symptom and Related Disorders',\n",
       " '급식 및 섭식장애': 'Feeding and Eating Disorders',\n",
       " '배설장애': 'Elimination Disorders',\n",
       " '수면－각성 장애': 'Sleep－Wake Disorders',\n",
       " '성기능부전': 'Sexual Dysfunctions',\n",
       " '성별 불쾌감': 'Gender Dysphoria',\n",
       " '파괴적, 충동조절 및 품행 장애': 'Disruptive, Impulse－Control, and Conduct Disorders',\n",
       " '물질관련 및 중독 장애': 'Substance－Related and Addictive Disorders',\n",
       " '신경인지장애': 'Neurocognitive Disorders',\n",
       " '성격장애': 'Personality Disorders',\n",
       " '변태성욕장애': 'Paraphilic Disorders',\n",
       " '기타 정신질환': 'Other Mental Disorders'}"
      ]
     },
     "execution_count": 82,
     "metadata": {},
     "output_type": "execute_result"
    }
   ],
   "source": [
    "txt = '''신경발달장애 Neurodevelopmental Disorders\n",
    "조현병 스펙트럼 및 기타 정신병적 장애 Schizophrenia Spectrum and Other Psychotic Disorders\n",
    "양극성 및 관련 장애 Bipolar and Related Disorders\n",
    "우울장애 Depressive Disorders\n",
    "불안장애 Anxiety Disorder\n",
    "강박 및 관련 장애 Obsessive－Compulsive and Related Disorders\n",
    "외상 및 스트레스 관련 장애 Trauma－and Stressor－Related Disorders\n",
    "해리장애 Dissociative Disorders\n",
    "신체증상 및 관련 장애 Somatic Symptom and Related Disorders\n",
    "급식 및 섭식장애 Feeding and Eating Disorders\n",
    "배설장애 Elimination Disorders\n",
    "수면－각성 장애 Sleep－Wake Disorders\n",
    "성기능부전 Sexual Dysfunctions\n",
    "성별 불쾌감 Gender Dysphoria\n",
    "파괴적, 충동조절 및 품행 장애 Disruptive, Impulse－Control, and Conduct Disorders\n",
    "물질관련 및 중독 장애 Substance－Related and Addictive Disorders\n",
    "신경인지장애 Neurocognitive Disorders\n",
    "성격장애 Personality Disorders\n",
    "변태성욕장애 Paraphilic Disorders\n",
    "기타 정신질환 Other Mental Disorders'''\n",
    "\n",
    "korAndEng = txt.splitlines()\n",
    "\n",
    "mentalDisorder = {}\n",
    "\n",
    "for i in range(len(korAndEng)):\n",
    "  count = 0\n",
    "  for word in korAndEng[i]:\n",
    "    if 65 <= ord(word) <= 90 or 97 <= ord(word) <= 122:\n",
    "      kor = korAndEng[i][:count-1]\n",
    "      eng = korAndEng[i][count:]\n",
    "      mentalDisorder[kor] = eng\n",
    "      break\n",
    "    else:\n",
    "      count += 1\n",
    "\n",
    "mentalDisorder"
   ]
  },
  {
   "cell_type": "code",
   "execution_count": null,
   "metadata": {},
   "outputs": [],
   "source": [
    "# 다른 풀이\n",
    "txt = '''신경발달장애 Neurodevelopmental Disorders\n",
    "조현병 스펙트럼 및 기타 정신병적 장애 Schizophrenia Spectrum and Other Psychotic Disorders\n",
    "양극성 및 관련 장애 Bipolar and Related Disorders\n",
    "우울장애 Depressive Disorders\n",
    "불안장애 Anxiety Disorder\n",
    "강박 및 관련 장애 Obsessive－Compulsive and Related Disorders\n",
    "외상 및 스트레스 관련 장애 Trauma－and Stressor－Related Disorders\n",
    "해리장애 Dissociative Disorders\n",
    "신체증상 및 관련 장애 Somatic Symptom and Related Disorders\n",
    "급식 및 섭식장애 Feeding and Eating Disorders\n",
    "배설장애 Elimination Disorders\n",
    "수면－각성 장애 Sleep－Wake Disorders\n",
    "성기능부전 Sexual Dysfunctions\n",
    "성별 불쾌감 Gender Dysphoria\n",
    "파괴적, 충동조절 및 품행 장애 Disruptive, Impulse－Control, and Conduct Disorders\n",
    "물질관련 및 중독 장애 Substance－Related and Addictive Disorders\n",
    "신경인지장애 Neurocognitive Disorders\n",
    "성격장애 Personality Disorders\n",
    "변태성욕장애 Paraphilic Disorders\n",
    "기타 정신질환 Other Mental Disorders'''\n",
    "\n",
    "disorders = dict()\n",
    "\n",
    "is_eng = lambda x: 65 <= ord(x) <= 90 or 97 <= ord(x) <= 122\n",
    "\n",
    "for l in txt.splitlines():\n",
    "    i = 0\n",
    "    while not is_eng(l[i]):\n",
    "        i += 1\n",
    "    else:\n",
    "        ko, en = l[:i - 1], l[i:]\n",
    "        disorders[ko] = en\n",
    "\n",
    "print(disorders)"
   ]
  },
  {
   "attachments": {},
   "cell_type": "markdown",
   "metadata": {},
   "source": [
    "## 프랙털\n",
    "0과 1로 이뤄진 문자열 한 행이 있을 때, 정해진 규칙에 따라 그다음 행을 생성하는 문제입니다.\n",
    "\n",
    "한 행에 61개의 숫자가 있도록, 첫 번째 행은 가운데 숫자가 1, 나머지는 모두 0입니다. 두 번째 행부터는 규칙에 따라 생성합니다"
   ]
  },
  {
   "cell_type": "code",
   "execution_count": 90,
   "metadata": {},
   "outputs": [
    {
     "name": "stdout",
     "output_type": "stream",
     "text": [
      "0000000000000000000000000000001000000000000000000000000000000\n",
      "0000000000000000000000000000010100000000000000000000000000000\n",
      "0000000000000000000000000000100010000000000000000000000000000\n",
      "0000000000000000000000000001010101000000000000000000000000000\n",
      "0000000000000000000000000010000000100000000000000000000000000\n",
      "0000000000000000000000000101000001010000000000000000000000000\n",
      "0000000000000000000000001000100010001000000000000000000000000\n",
      "0000000000000000000000010101010101010100000000000000000000000\n",
      "0000000000000000000000100000000000000010000000000000000000000\n",
      "0000000000000000000001010000000000000101000000000000000000000\n",
      "0000000000000000000010001000000000001000100000000000000000000\n",
      "0000000000000000000101010100000000010101010000000000000000000\n",
      "0000000000000000001000000010000000100000001000000000000000000\n",
      "0000000000000000010100000101000001010000010100000000000000000\n",
      "0000000000000000100010001000100010001000100010000000000000000\n",
      "0000000000000001010101010101010101010101010101000000000000000\n",
      "0000000000000010000000000000000000000000000000100000000000000\n",
      "0000000000000101000000000000000000000000000001010000000000000\n",
      "0000000000001000100000000000000000000000000010001000000000000\n",
      "0000000000010101010000000000000000000000000101010100000000000\n",
      "0000000000100000001000000000000000000000001000000010000000000\n",
      "0000000001010000010100000000000000000000010100000101000000000\n",
      "0000000010001000100010000000000000000000100010001000100000000\n",
      "0000000101010101010101000000000000000001010101010101010000000\n",
      "0000001000000000000000100000000000000010000000000000001000000\n",
      "0000010100000000000001010000000000000101000000000000010100000\n",
      "0000100010000000000010001000000000001000100000000000100010000\n",
      "0001010101000000000101010100000000010101010000000001010101000\n",
      "0010000000100000001000000010000000100000001000000010000000100\n",
      "0101000001010000010100000101000001010000010100000101000001010\n",
      "0000100010001000100010001000100010001000100010001000100010000\n"
     ]
    }
   ],
   "source": [
    "rule = {'111':'0', '110':'1', '101':'0', '100':'1', '011':'1', '010':'0', '001':'1', '000':'0',}\n",
    "row = '0000000000000000000000000000001000000000000000000000000000000'\n",
    "nextRow = row\n",
    "\n",
    "print(row)\n",
    "for j in range(30):\n",
    "  for i in range(1, 60):\n",
    "    nextRow = nextRow[:i] + rule[row[i-1]+row[i]+row[i+1]] + nextRow[i+1:]\n",
    "  print(nextRow)\n",
    "  row = nextRow"
   ]
  },
  {
   "cell_type": "code",
   "execution_count": null,
   "metadata": {},
   "outputs": [],
   "source": [
    "# 다른 풀이\n",
    "colwidth = 61\n",
    "rule90 = {'000':'0', '001':'1', '010':'0', '011':'1', '100':'1', '101':'0', '110':'1', '111':'0'}\n",
    "\n",
    "half = colwidth // 2\n",
    "line = '0' * half + '1' + '0' * half\n",
    "print(line)\n",
    "\n",
    "while line[1] == '0':\n",
    "    prev = line\n",
    "    line = '0' * colwidth\n",
    "    for i in range(1, colwidth - 1):\n",
    "        line = line[:i] + rule90[prev[i-1:i+2]] + line[i+1:]\n",
    "    print(line)"
   ]
  },
  {
   "attachments": {},
   "cell_type": "markdown",
   "metadata": {},
   "source": [
    "## 예제: 주사위 눈의 합\n",
    "주사위 두 개가 있습니다. 한 개는 평범한 주사위인데, 다른 한 개의 각 면에는 2에서 13까지의 소수가 적혀 있습니다. 아래 코드는 두 주사위의 눈을 튜플 dice1과 dice2로 나타냅니다.\n",
    "\n",
    "dice1 = (1, 2, 3, 4, 5, 6)\n",
    "\n",
    "dice2 = (2, 3, 5, 7, 11, 13)\n",
    "\n",
    "두 주사위를 던졌을 때 눈의 합으로 나올 수 있는 숫자를 모두 출력하세요. 단, 같은 숫자는 한 번만 출력합니다."
   ]
  },
  {
   "cell_type": "code",
   "execution_count": 91,
   "metadata": {},
   "outputs": [
    {
     "name": "stdout",
     "output_type": "stream",
     "text": [
      "{3, 4, 5, 6, 7, 8, 9, 10, 11, 12, 13, 14, 15, 16, 17, 18, 19}\n"
     ]
    }
   ],
   "source": [
    "dice1 = (1, 2, 3, 4, 5, 6)\n",
    "dice2 = (2, 3, 5, 7, 11, 13)\n",
    "\n",
    "sumOfDice = set()\n",
    "\n",
    "for i in range(6):\n",
    "  for j in range(6):\n",
    "    sumOfDice.add(dice1[i] + dice2[j])\n",
    "\n",
    "print(sumOfDice)"
   ]
  },
  {
   "cell_type": "code",
   "execution_count": 92,
   "metadata": {},
   "outputs": [
    {
     "name": "stdout",
     "output_type": "stream",
     "text": [
      "{3, 4, 5, 6, 7, 8, 9, 10, 11, 12, 13, 14, 15, 16, 17, 18, 19}\n"
     ]
    }
   ],
   "source": [
    "# 다른 풀이\n",
    "dice1 = (1, 2, 3, 4, 5, 6)\n",
    "dice2 = (2, 3, 5, 7, 11, 13)\n",
    "\n",
    "sum_of_the_two_dice = set()\n",
    "\n",
    "for x in dice1:\n",
    "    for y in dice2:\n",
    "        sum_of_the_two_dice.add(x + y)\n",
    "\n",
    "print(sum_of_the_two_dice)"
   ]
  }
 ],
 "metadata": {
  "kernelspec": {
   "display_name": "Python 3",
   "language": "python",
   "name": "python3"
  },
  "language_info": {
   "codemirror_mode": {
    "name": "ipython",
    "version": 3
   },
   "file_extension": ".py",
   "mimetype": "text/x-python",
   "name": "python",
   "nbconvert_exporter": "python",
   "pygments_lexer": "ipython3",
   "version": "3.11.1"
  },
  "orig_nbformat": 4,
  "vscode": {
   "interpreter": {
    "hash": "d6890034c7ddd4fa50d8eca5fc67f020bb6f06e6f5906cded6c58a82aa66a825"
   }
  }
 },
 "nbformat": 4,
 "nbformat_minor": 2
}
