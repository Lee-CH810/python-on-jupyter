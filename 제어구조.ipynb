{
 "cells": [
  {
   "cell_type": "markdown",
   "metadata": {},
   "source": [
    "## while문"
   ]
  },
  {
   "cell_type": "code",
   "execution_count": 1,
   "metadata": {},
   "outputs": [
    {
     "name": "stdout",
     "output_type": "stream",
     "text": [
      "1\n",
      "2\n",
      "3\n",
      "4\n",
      "5\n",
      "6\n",
      "7\n",
      "8\n",
      "9\n",
      "10\n",
      "11\n",
      "12\n",
      "13\n",
      "14\n",
      "15\n",
      "16\n",
      "17\n",
      "18\n",
      "19\n",
      "20\n",
      "21\n",
      "22\n",
      "23\n",
      "24\n",
      "25\n",
      "26\n",
      "27\n",
      "28\n",
      "29\n",
      "30\n",
      "31\n",
      "32\n",
      "33\n",
      "34\n",
      "35\n",
      "36\n",
      "37\n",
      "38\n",
      "39\n",
      "40\n",
      "41\n",
      "42\n",
      "43\n",
      "44\n",
      "45\n",
      "46\n",
      "47\n",
      "48\n",
      "49\n",
      "50\n",
      "51\n",
      "52\n",
      "53\n",
      "54\n",
      "55\n",
      "56\n",
      "57\n",
      "58\n",
      "59\n",
      "60\n",
      "61\n",
      "62\n",
      "63\n",
      "64\n",
      "65\n",
      "66\n",
      "67\n",
      "68\n",
      "69\n",
      "70\n",
      "71\n",
      "72\n",
      "73\n",
      "74\n",
      "75\n",
      "76\n",
      "77\n",
      "78\n",
      "79\n",
      "80\n",
      "81\n",
      "82\n",
      "83\n",
      "84\n",
      "85\n",
      "86\n",
      "87\n",
      "88\n",
      "89\n",
      "90\n",
      "91\n",
      "92\n",
      "93\n",
      "94\n",
      "95\n",
      "96\n",
      "97\n",
      "98\n",
      "99\n",
      "100\n"
     ]
    }
   ],
   "source": [
    "num = 1\n",
    "while num <= 100:\n",
    "  print(num)\n",
    "  num = num + 1"
   ]
  },
  {
   "cell_type": "markdown",
   "metadata": {},
   "source": [
    "## 예제: 입력받은 숫자 만큼 반복하기\n",
    "사용자로부터 정수를 한 개 입력받아, 그 숫자를 숫자 크기만큼 반복해서 출력.\n",
    "\n",
    "이때, 출력 앞에 공백을 한 칸 주어서 입력과 출력이 구분되게 함.\n",
    "\n",
    "*while 문 사용*"
   ]
  },
  {
   "cell_type": "code",
   "execution_count": 5,
   "metadata": {},
   "outputs": [
    {
     "name": "stdout",
     "output_type": "stream",
     "text": [
      "  5\n",
      "  5\n",
      "  5\n",
      "  5\n",
      "  5\n"
     ]
    }
   ],
   "source": [
    "num = int(input('입력: '))\n",
    "x = 1\n",
    "while x <= num:\n",
    "  print(' ', num)\n",
    "  x += 1"
   ]
  },
  {
   "cell_type": "markdown",
   "metadata": {},
   "source": [
    "## 예제: 제곱표\n",
    "정수를 한 개 입력받아, 1부터 입력받은 수까지 각각에 대해 제곱을 구해 프린트하는 프로그램을 작성.\n",
    "*while 문 사용*"
   ]
  },
  {
   "cell_type": "code",
   "execution_count": 7,
   "metadata": {},
   "outputs": [
    {
     "name": "stdout",
     "output_type": "stream",
     "text": [
      "1   1\n",
      "2   4\n",
      "3   9\n",
      "4   16\n",
      "5   25\n"
     ]
    }
   ],
   "source": [
    "num = int(input('입력: '))\n",
    "\n",
    "i = 1\n",
    "while i <= num:\n",
    "  print(i, ' ', i ** 2)\n",
    "  i += 1"
   ]
  },
  {
   "cell_type": "markdown",
   "metadata": {},
   "source": [
    "## 예제: 얌체공\n",
    "공을 100미터 높이에서 떨어뜨림. 공이 땅에 닿을 때마다 원래 높이의 3/5만큼 튀어 오름.\n",
    "\n",
    "공이 열 번 튈 동안, 그때마다 공의 높이를 계산. round()함수를 사용하여 소수점 아래 네 자리까지 출력."
   ]
  },
  {
   "cell_type": "code",
   "execution_count": 8,
   "metadata": {},
   "outputs": [
    {
     "name": "stdout",
     "output_type": "stream",
     "text": [
      "1 60.0\n",
      "2 36.0\n",
      "3 21.6\n",
      "4 12.96\n",
      "5 7.776\n",
      "6 4.6656\n",
      "7 2.7994\n",
      "8 1.6796\n",
      "9 1.0078\n",
      "10 0.6047\n"
     ]
    }
   ],
   "source": [
    "h = 100\n",
    "\n",
    "i = 1\n",
    "while i <= 10:\n",
    "  h = h * 3 / 5\n",
    "  print(i, round(h, 4))\n",
    "  i += 1"
   ]
  },
  {
   "cell_type": "markdown",
   "metadata": {},
   "source": [
    "## 예제: 코드 읽고 결과 맞추기\n",
    "number = 358\n",
    "\n",
    "rem = rev = 0\n",
    "\n",
    "while number >= 1:\n",
    "\n",
    "    rem = number % 10\n",
    "\n",
    "    rev = rev * 10 + rem\n",
    "\n",
    "    number = number // 10\n",
    "\n",
    "print(rev)"
   ]
  },
  {
   "cell_type": "code",
   "execution_count": 9,
   "metadata": {},
   "outputs": [
    {
     "name": "stdout",
     "output_type": "stream",
     "text": [
      "853\n"
     ]
    }
   ],
   "source": [
    "number = 358\n",
    "\n",
    "rem = rev = 0\n",
    "while number >= 1:\n",
    "    rem = number % 10\n",
    "    rev = rev * 10 + rem\n",
    "    number = number // 10\n",
    "\n",
    "print(rev)"
   ]
  },
  {
   "cell_type": "markdown",
   "metadata": {},
   "source": [
    "## if - elif - else"
   ]
  },
  {
   "cell_type": "code",
   "execution_count": 10,
   "metadata": {},
   "outputs": [
    {
     "name": "stdout",
     "output_type": "stream",
     "text": [
      "b\n"
     ]
    }
   ],
   "source": [
    "a = 1234 * 4\n",
    "b = 13456 / 2\n",
    "\n",
    "if a > b:\n",
    "  print('a')\n",
    "else:\n",
    "  print('b')"
   ]
  },
  {
   "cell_type": "code",
   "execution_count": 11,
   "metadata": {},
   "outputs": [
    {
     "name": "stdout",
     "output_type": "stream",
     "text": [
      "c is equal to d\n"
     ]
    }
   ],
   "source": [
    "c = 15 * 5\n",
    "d = 15 + 15 + 15 + 15 + 15\n",
    "if c > d:\n",
    "  print('c is greater than d')\n",
    "elif c == d:\n",
    "  print('c is equal to d')\n",
    "elif c < d:\n",
    "  print('c is less than d')\n",
    "else:\n",
    "  print('I don\\'t know')"
   ]
  },
  {
   "cell_type": "code",
   "execution_count": 12,
   "metadata": {},
   "outputs": [
    {
     "name": "stdout",
     "output_type": "stream",
     "text": [
      "48는 4로 나누어 떨어집니다.\n"
     ]
    }
   ],
   "source": [
    "a = 48\n",
    "b = 4\n",
    "\n",
    "if a%b == 0:\n",
    "  print(f'{a}는 {b}로 나누어 떨어집니다.')\n",
    "elif a%b != 0:\n",
    "  print(f'{a}는 {b}로 나누어 떨어지지 않습니다.')"
   ]
  },
  {
   "cell_type": "code",
   "execution_count": 15,
   "metadata": {},
   "outputs": [
    {
     "name": "stdout",
     "output_type": "stream",
     "text": [
      "12 is too big!\n"
     ]
    }
   ],
   "source": [
    "# 10보다 큰 숫자가 들어오면 멈추는 반복문 작성\n",
    "\n",
    "max = 10\n",
    "\n",
    "while True:\n",
    "  num = int(input())\n",
    "  if num > max:\n",
    "    print(num, 'is too big!')\n",
    "    break"
   ]
  },
  {
   "cell_type": "markdown",
   "metadata": {},
   "source": [
    "## 예제: 숫자 읽기(1~3)\n",
    "input()으로 사용자에게서 입력받은 숫자를 한글로 출력. 단, 사용자는 1 이상 3 이하의 정수 중 하나를 입력."
   ]
  },
  {
   "cell_type": "code",
   "execution_count": 20,
   "metadata": {},
   "outputs": [
    {
     "name": "stdout",
     "output_type": "stream",
     "text": [
      "일\n"
     ]
    }
   ],
   "source": [
    "num = int(input())\n",
    "\n",
    "if num == 1:\n",
    "  print('일')\n",
    "elif num == 2:\n",
    "  print('이')\n",
    "elif num == 3:\n",
    "  print('삼')\n",
    "else:\n",
    "  print('1에서 3 사이의 값이 아닙니다.')"
   ]
  },
  {
   "cell_type": "markdown",
   "metadata": {},
   "source": [
    "## 예제: 단위 기호\n",
    "입력받은 숫자가 1000보다 크면 일의 자리부터 백의 자리까지의 숫자를 생략하고 'k'를 붙여주는 코드 작성."
   ]
  },
  {
   "cell_type": "code",
   "execution_count": 22,
   "metadata": {},
   "outputs": [
    {
     "name": "stdout",
     "output_type": "stream",
     "text": [
      "5k\n"
     ]
    }
   ],
   "source": [
    "num = int(input())\n",
    "result = str(num)\n",
    "\n",
    "if num >= 1000:\n",
    "  result = str(num // 1000) + 'k'\n",
    "elif num >= 0:\n",
    "  pass\n",
    "\n",
    "print(result)"
   ]
  },
  {
   "cell_type": "markdown",
   "metadata": {},
   "source": [
    "백만 이상의 숫자를 입력받았을 때 1~10만 자리 숫자를 생략하고 'M'을 붙여서 출력하도록 코드 수정."
   ]
  },
  {
   "cell_type": "code",
   "execution_count": 23,
   "metadata": {},
   "outputs": [
    {
     "name": "stdout",
     "output_type": "stream",
     "text": [
      "3M\n"
     ]
    }
   ],
   "source": [
    "num = int(input())\n",
    "result = str(num)\n",
    "\n",
    "if num >= 1000000:\n",
    "  result = str(num // 1000000) + 'M'\n",
    "elif num >= 1000:\n",
    "  result = str(num // 1000) + 'k'\n",
    "elif num >= 0:\n",
    "  pass\n",
    "\n",
    "print(result)"
   ]
  },
  {
   "cell_type": "markdown",
   "metadata": {},
   "source": [
    "그 이상의 수에 대해서도 구현"
   ]
  },
  {
   "cell_type": "code",
   "execution_count": 26,
   "metadata": {},
   "outputs": [
    {
     "name": "stdout",
     "output_type": "stream",
     "text": [
      "400k\n"
     ]
    }
   ],
   "source": [
    "num = int(input())\n",
    "result = str(num)\n",
    "\n",
    "if num >= 1000000000:\n",
    "  result = str(num // 1000000000) + 'G'\n",
    "elif num >= 1000000:\n",
    "  result = str(num // 1000000) + 'M'\n",
    "elif num >= 1000:\n",
    "  result = str(num // 1000) + 'k'\n",
    "elif num >= 0:\n",
    "  pass\n",
    "\n",
    "print(result)"
   ]
  },
  {
   "cell_type": "markdown",
   "metadata": {},
   "source": [
    "## 예제: 양수만 덧셈하기\n",
    "input()으로 사용자로부터 입력받은 정수를 계속 더해나가다가, 음수가 입력되면 중단하고 그 전까지 계산한 값을 출력."
   ]
  },
  {
   "cell_type": "code",
   "execution_count": 29,
   "metadata": {},
   "outputs": [
    {
     "name": "stdout",
     "output_type": "stream",
     "text": [
      "180\n"
     ]
    }
   ],
   "source": [
    "sum = 0\n",
    "\n",
    "while True:\n",
    "  num = int(input())\n",
    "  if num >= 0:\n",
    "    sum += num\n",
    "  else:\n",
    "    break\n",
    "\n",
    "print(sum)"
   ]
  },
  {
   "cell_type": "markdown",
   "metadata": {},
   "source": [
    "## 예제: 윤년 판별\n",
    "윤년 규칙\n",
    "1. 연수가 4로 나누어 떨어지는 해는 윤년\n",
    "2. 연수가 4, 100으로 나누어 떨어지는 해는 평년\n",
    "3. 연수가 4, 100, 400으로 나누어 떨어지는 해는 윤년\n",
    "\n",
    "연도를 나타내는 정수를 입력으로 받아서 윤년인지 아닌지 출력."
   ]
  },
  {
   "cell_type": "code",
   "execution_count": 34,
   "metadata": {},
   "outputs": [
    {
     "name": "stdout",
     "output_type": "stream",
     "text": [
      "2000년은 윤년입니다.\n"
     ]
    }
   ],
   "source": [
    "year = int(input('연도 입력: '))\n",
    "y_4 = year % 4\n",
    "y_100 = year % 100\n",
    "y_400 = year % 400\n",
    "yoon = None\n",
    "\n",
    "if y_4 == 0:\n",
    "  if y_100 == 0:\n",
    "    if y_400 == 0:\n",
    "      yoon = True\n",
    "    else:\n",
    "      yoon = False\n",
    "  else:\n",
    "    yoon = True\n",
    "else:\n",
    "  yoon = False\n",
    "\n",
    "if yoon:\n",
    "  print(f'{year}년은 윤년입니다.')\n",
    "else:\n",
    "  print(f'{year}년은 평년입니다.')"
   ]
  },
  {
   "cell_type": "code",
   "execution_count": 39,
   "metadata": {},
   "outputs": [
    {
     "name": "stdout",
     "output_type": "stream",
     "text": [
      "2400년은 윤년입니다.\n"
     ]
    }
   ],
   "source": [
    "# 다른 풀이\n",
    "year = int(input('연도 입력: '))\n",
    "y_4 = year % 4\n",
    "y_100 = year % 100\n",
    "y_400 = year % 400\n",
    "yoon = None\n",
    "\n",
    "if y_4 != 0:\n",
    "  yoon = False\n",
    "elif y_100 != 0:\n",
    "  yoon = True\n",
    "elif y_400 != 0:\n",
    "  yoon = False\n",
    "else:\n",
    "  yoon = True\n",
    "\n",
    "if yoon:\n",
    "  print(f'{year}년은 윤년입니다.')\n",
    "else:\n",
    "  print(f'{year}년은 평년입니다.')"
   ]
  },
  {
   "cell_type": "markdown",
   "metadata": {},
   "source": [
    "## for"
   ]
  },
  {
   "cell_type": "code",
   "execution_count": 40,
   "metadata": {},
   "outputs": [
    {
     "name": "stdout",
     "output_type": "stream",
     "text": [
      "mother 6\n",
      "father 6\n",
      "Os 2\n",
      "Ys 2\n",
      "Me 2\n"
     ]
    }
   ],
   "source": [
    "family = ['mother', 'father', 'Os', 'Ys', 'Me']\n",
    "\n",
    "for x in family:\n",
    "  print(x, len(x))"
   ]
  },
  {
   "cell_type": "code",
   "execution_count": 41,
   "metadata": {},
   "outputs": [
    {
     "data": {
      "text/plain": [
       "[2, 3, 4, 5, 6]"
      ]
     },
     "execution_count": 41,
     "metadata": {},
     "output_type": "execute_result"
    }
   ],
   "source": [
    "list(range(2,7))"
   ]
  },
  {
   "cell_type": "markdown",
   "metadata": {},
   "source": [
    "## 예제: 입력받은 숫자만큼 반복(for)\n",
    "input()으로 정수를 한 개 입력받아, 그 숫자를 숫자 크기만큼 반복해서 출력. 이때, 출력 앞에 공백을 한 칸 주어서, 입력과 출력이 구분되도록 하기."
   ]
  },
  {
   "cell_type": "code",
   "execution_count": 42,
   "metadata": {},
   "outputs": [
    {
     "name": "stdout",
     "output_type": "stream",
     "text": [
      "  3\n",
      "  3\n",
      "  3\n"
     ]
    }
   ],
   "source": [
    "num = int(input())\n",
    "for i in range(num):\n",
    "  print(' ', num)"
   ]
  },
  {
   "cell_type": "markdown",
   "metadata": {},
   "source": [
    "## 예제: 제곱표(for)\n",
    "정수를 한 개 입력 받아 1부터 입력받은 수까지 각각에 대해 제곱을 구해 출력. *for 문 사용*"
   ]
  },
  {
   "cell_type": "code",
   "execution_count": 45,
   "metadata": {},
   "outputs": [
    {
     "name": "stdout",
     "output_type": "stream",
     "text": [
      "1 1\n",
      "2 4\n",
      "3 9\n",
      "4 16\n",
      "5 25\n"
     ]
    }
   ],
   "source": [
    "num = int(input())\n",
    "for i in range(num):\n",
    "  print(i + 1, (i + 1) ** 2)"
   ]
  },
  {
   "cell_type": "code",
   "execution_count": 46,
   "metadata": {},
   "outputs": [
    {
     "name": "stdout",
     "output_type": "stream",
     "text": [
      "1 1\n",
      "2 4\n",
      "3 9\n"
     ]
    }
   ],
   "source": [
    "# 다른 풀이\n",
    "num = int(input())\n",
    "for i in range(1, num+1):\n",
    "  print(i, i * i)"
   ]
  },
  {
   "cell_type": "markdown",
   "metadata": {},
   "source": [
    "## 예제: 화학 실험실\n",
    "최소와 최대의 안전 온도를 나타내는 두 개의 정수를 읽는다. 그 다음에, 장치가 제공하는 온도(정수)를 계속 읽는다. 화학 반응이 완료되면 장치는 끝을 알리는 -999를 보낸다. 기록된 온도가 올바른 범위에 있을 경우(최댓값 혹은 최솟값과 같아도 됨) Nothing to report를 출력. 온도가 위험 수준에 도달하면 Alert!를 출력하고 온도 측정을 중단."
   ]
  },
  {
   "cell_type": "code",
   "execution_count": 50,
   "metadata": {},
   "outputs": [
    {
     "name": "stdout",
     "output_type": "stream",
     "text": [
      "Nothing to report\n",
      "Nothing to report\n",
      "Nothing to report\n",
      "Alert!\n"
     ]
    }
   ],
   "source": [
    "min, max = input().split()\n",
    "\n",
    "while True:\n",
    "  tem = int(input())\n",
    "  if tem == -999:\n",
    "    break\n",
    "  if tem >= int(min) and tem <= int(max):\n",
    "    print('Nothing to report')\n",
    "  else:\n",
    "    print('Alert!')\n",
    "    break"
   ]
  },
  {
   "cell_type": "code",
   "execution_count": null,
   "metadata": {},
   "outputs": [],
   "source": [
    "# 다른 풀이\n",
    "\n",
    "L = input().split()\n",
    "min = int(L[0])\n",
    "max = int(L[1])\n",
    "# min, max = map(int, input().split())\n",
    "\n",
    "temp = int(input())\n",
    "\n",
    "while temp != -999:\n",
    "    if min <= temp <= max:\n",
    "        print('Nothing to report')\n",
    "        temp = int(input())\n",
    "    else:\n",
    "        print('Alert!')\n",
    "        break"
   ]
  },
  {
   "cell_type": "markdown",
   "metadata": {},
   "source": [
    "match-case"
   ]
  },
  {
   "cell_type": "code",
   "execution_count": 1,
   "metadata": {},
   "outputs": [
    {
     "name": "stdout",
     "output_type": "stream",
     "text": [
      "1 is odd.\n",
      "2 is even.\n",
      "3 is odd.\n",
      "4 is even.\n",
      "5 is odd.\n",
      "6 is even.\n",
      "7 is odd.\n",
      "8 is even.\n",
      "9 is odd.\n",
      "10 is even.\n"
     ]
    }
   ],
   "source": [
    "for n in range(1, 11):\n",
    "  match n % 2:\n",
    "    case 0:\n",
    "      print(f\"{n} is even.\")\n",
    "    case 1:\n",
    "      print(f\"{n} is odd.\")"
   ]
  },
  {
   "cell_type": "code",
   "execution_count": 2,
   "metadata": {},
   "outputs": [
    {
     "name": "stdout",
     "output_type": "stream",
     "text": [
      "1\n",
      "2\n",
      "Fizz\n",
      "4\n",
      "Buzz\n",
      "Fizz\n",
      "7\n",
      "8\n",
      "Fizz\n",
      "Buzz\n",
      "11\n",
      "Fizz\n",
      "13\n",
      "14\n",
      "FizzBuzz\n",
      "16\n",
      "17\n",
      "Fizz\n",
      "19\n",
      "Buzz\n",
      "Fizz\n",
      "22\n",
      "23\n",
      "Fizz\n",
      "Buzz\n",
      "26\n",
      "Fizz\n",
      "28\n",
      "29\n",
      "FizzBuzz\n",
      "31\n",
      "32\n",
      "Fizz\n",
      "34\n",
      "Buzz\n",
      "Fizz\n",
      "37\n",
      "38\n",
      "Fizz\n",
      "Buzz\n",
      "41\n",
      "Fizz\n",
      "43\n",
      "44\n",
      "FizzBuzz\n",
      "46\n",
      "47\n",
      "Fizz\n",
      "49\n",
      "Buzz\n",
      "Fizz\n",
      "52\n",
      "53\n",
      "Fizz\n",
      "Buzz\n",
      "56\n",
      "Fizz\n",
      "58\n",
      "59\n",
      "FizzBuzz\n",
      "61\n",
      "62\n",
      "Fizz\n",
      "64\n",
      "Buzz\n",
      "Fizz\n",
      "67\n",
      "68\n",
      "Fizz\n",
      "Buzz\n",
      "71\n",
      "Fizz\n",
      "73\n",
      "74\n",
      "FizzBuzz\n",
      "76\n",
      "77\n",
      "Fizz\n",
      "79\n",
      "Buzz\n",
      "Fizz\n",
      "82\n",
      "83\n",
      "Fizz\n",
      "Buzz\n",
      "86\n",
      "Fizz\n",
      "88\n",
      "89\n",
      "FizzBuzz\n",
      "91\n",
      "92\n",
      "Fizz\n",
      "94\n",
      "Buzz\n",
      "Fizz\n",
      "97\n",
      "98\n",
      "Fizz\n",
      "Buzz\n"
     ]
    }
   ],
   "source": [
    "# 피즈버즈\n",
    "for n in range(1, 101):\n",
    "  match(n % 3, n % 5):\n",
    "    case (0, 0):\n",
    "      print(\"FizzBuzz\")\n",
    "    case (0, _):\n",
    "      print(\"Fizz\")\n",
    "    case (_, 0):\n",
    "      print(\"Buzz\")\n",
    "    case _:\n",
    "      print(n)\n"
   ]
  }
 ],
 "metadata": {
  "kernelspec": {
   "display_name": "Python 3.11.1 64-bit",
   "language": "python",
   "name": "python3"
  },
  "language_info": {
   "codemirror_mode": {
    "name": "ipython",
    "version": 3
   },
   "file_extension": ".py",
   "mimetype": "text/x-python",
   "name": "python",
   "nbconvert_exporter": "python",
   "pygments_lexer": "ipython3",
   "version": "3.11.1"
  },
  "orig_nbformat": 4,
  "vscode": {
   "interpreter": {
    "hash": "d6890034c7ddd4fa50d8eca5fc67f020bb6f06e6f5906cded6c58a82aa66a825"
   }
  }
 },
 "nbformat": 4,
 "nbformat_minor": 2
}
