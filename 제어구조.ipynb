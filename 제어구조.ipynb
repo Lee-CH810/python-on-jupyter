{
 "cells": [
  {
   "cell_type": "markdown",
   "metadata": {},
   "source": [
    "## while문"
   ]
  },
  {
   "cell_type": "code",
   "execution_count": 1,
   "metadata": {},
   "outputs": [
    {
     "name": "stdout",
     "output_type": "stream",
     "text": [
      "1\n",
      "2\n",
      "3\n",
      "4\n",
      "5\n",
      "6\n",
      "7\n",
      "8\n",
      "9\n",
      "10\n",
      "11\n",
      "12\n",
      "13\n",
      "14\n",
      "15\n",
      "16\n",
      "17\n",
      "18\n",
      "19\n",
      "20\n",
      "21\n",
      "22\n",
      "23\n",
      "24\n",
      "25\n",
      "26\n",
      "27\n",
      "28\n",
      "29\n",
      "30\n",
      "31\n",
      "32\n",
      "33\n",
      "34\n",
      "35\n",
      "36\n",
      "37\n",
      "38\n",
      "39\n",
      "40\n",
      "41\n",
      "42\n",
      "43\n",
      "44\n",
      "45\n",
      "46\n",
      "47\n",
      "48\n",
      "49\n",
      "50\n",
      "51\n",
      "52\n",
      "53\n",
      "54\n",
      "55\n",
      "56\n",
      "57\n",
      "58\n",
      "59\n",
      "60\n",
      "61\n",
      "62\n",
      "63\n",
      "64\n",
      "65\n",
      "66\n",
      "67\n",
      "68\n",
      "69\n",
      "70\n",
      "71\n",
      "72\n",
      "73\n",
      "74\n",
      "75\n",
      "76\n",
      "77\n",
      "78\n",
      "79\n",
      "80\n",
      "81\n",
      "82\n",
      "83\n",
      "84\n",
      "85\n",
      "86\n",
      "87\n",
      "88\n",
      "89\n",
      "90\n",
      "91\n",
      "92\n",
      "93\n",
      "94\n",
      "95\n",
      "96\n",
      "97\n",
      "98\n",
      "99\n",
      "100\n"
     ]
    }
   ],
   "source": [
    "num = 1\n",
    "while num <= 100:\n",
    "  print(num)\n",
    "  num = num + 1"
   ]
  },
  {
   "cell_type": "markdown",
   "metadata": {},
   "source": [
    "## 예제: 입력받은 숫자 만큼 반복하기\n",
    "사용자로부터 정수를 한 개 입력받아, 그 숫자를 숫자 크기만큼 반복해서 출력.\n",
    "\n",
    "이때, 출력 앞에 공백을 한 칸 주어서 입력과 출력이 구분되게 함.\n",
    "\n",
    "*while 문 사용*"
   ]
  },
  {
   "cell_type": "code",
   "execution_count": 5,
   "metadata": {},
   "outputs": [
    {
     "name": "stdout",
     "output_type": "stream",
     "text": [
      "  5\n",
      "  5\n",
      "  5\n",
      "  5\n",
      "  5\n"
     ]
    }
   ],
   "source": [
    "num = int(input('입력: '))\n",
    "x = 1\n",
    "while x <= num:\n",
    "  print(' ', num)\n",
    "  x += 1"
   ]
  },
  {
   "cell_type": "markdown",
   "metadata": {},
   "source": [
    "## 예제: 제곱표\n",
    "정수를 한 개 입력받아, 1부터 입력받은 수까지 각각에 대해 제곱을 구해 프린트하는 프로그램을 작성.\n",
    "*while 문 사용*"
   ]
  },
  {
   "cell_type": "code",
   "execution_count": 7,
   "metadata": {},
   "outputs": [
    {
     "name": "stdout",
     "output_type": "stream",
     "text": [
      "1   1\n",
      "2   4\n",
      "3   9\n",
      "4   16\n",
      "5   25\n"
     ]
    }
   ],
   "source": [
    "num = int(input('입력: '))\n",
    "\n",
    "i = 1\n",
    "while i <= num:\n",
    "  print(i, ' ', i ** 2)\n",
    "  i += 1"
   ]
  },
  {
   "cell_type": "markdown",
   "metadata": {},
   "source": [
    "## 예제: 얌체공\n",
    "공을 100미터 높이에서 떨어뜨림. 공이 땅에 닿을 때마다 원래 높이의 3/5만큼 튀어 오름.\n",
    "\n",
    "공이 열 번 튈 동안, 그때마다 공의 높이를 계산. round()함수를 사용하여 소수점 아래 네 자리까지 출력."
   ]
  },
  {
   "cell_type": "code",
   "execution_count": 8,
   "metadata": {},
   "outputs": [
    {
     "name": "stdout",
     "output_type": "stream",
     "text": [
      "1 60.0\n",
      "2 36.0\n",
      "3 21.6\n",
      "4 12.96\n",
      "5 7.776\n",
      "6 4.6656\n",
      "7 2.7994\n",
      "8 1.6796\n",
      "9 1.0078\n",
      "10 0.6047\n"
     ]
    }
   ],
   "source": [
    "h = 100\n",
    "\n",
    "i = 1\n",
    "while i <= 10:\n",
    "  h = h * 3 / 5\n",
    "  print(i, round(h, 4))\n",
    "  i += 1"
   ]
  },
  {
   "cell_type": "markdown",
   "metadata": {},
   "source": [
    "## 예제: 코드 읽고 결과 맞추기\n",
    "number = 358\n",
    "\n",
    "rem = rev = 0\n",
    "\n",
    "while number >= 1:\n",
    "\n",
    "    rem = number % 10\n",
    "\n",
    "    rev = rev * 10 + rem\n",
    "\n",
    "    number = number // 10\n",
    "\n",
    "print(rev)"
   ]
  },
  {
   "cell_type": "code",
   "execution_count": 9,
   "metadata": {},
   "outputs": [
    {
     "name": "stdout",
     "output_type": "stream",
     "text": [
      "853\n"
     ]
    }
   ],
   "source": [
    "number = 358\n",
    "\n",
    "rem = rev = 0\n",
    "while number >= 1:\n",
    "    rem = number % 10\n",
    "    rev = rev * 10 + rem\n",
    "    number = number // 10\n",
    "\n",
    "print(rev)"
   ]
  },
  {
   "cell_type": "markdown",
   "metadata": {},
   "source": [
    "## if - elif - else"
   ]
  },
  {
   "cell_type": "code",
   "execution_count": 10,
   "metadata": {},
   "outputs": [
    {
     "name": "stdout",
     "output_type": "stream",
     "text": [
      "b\n"
     ]
    }
   ],
   "source": [
    "a = 1234 * 4\n",
    "b = 13456 / 2\n",
    "\n",
    "if a > b:\n",
    "  print('a')\n",
    "else:\n",
    "  print('b')"
   ]
  },
  {
   "cell_type": "code",
   "execution_count": 11,
   "metadata": {},
   "outputs": [
    {
     "name": "stdout",
     "output_type": "stream",
     "text": [
      "c is equal to d\n"
     ]
    }
   ],
   "source": [
    "c = 15 * 5\n",
    "d = 15 + 15 + 15 + 15 + 15\n",
    "if c > d:\n",
    "  print('c is greater than d')\n",
    "elif c == d:\n",
    "  print('c is equal to d')\n",
    "elif c < d:\n",
    "  print('c is less than d')\n",
    "else:\n",
    "  print('I don\\'t know')"
   ]
  },
  {
   "cell_type": "code",
   "execution_count": 12,
   "metadata": {},
   "outputs": [
    {
     "name": "stdout",
     "output_type": "stream",
     "text": [
      "48는 4로 나누어 떨어집니다.\n"
     ]
    }
   ],
   "source": [
    "a = 48\n",
    "b = 4\n",
    "\n",
    "if a%b == 0:\n",
    "  print(f'{a}는 {b}로 나누어 떨어집니다.')\n",
    "elif a%b != 0:\n",
    "  print(f'{a}는 {b}로 나누어 떨어지지 않습니다.')"
   ]
  },
  {
   "cell_type": "code",
   "execution_count": 15,
   "metadata": {},
   "outputs": [
    {
     "name": "stdout",
     "output_type": "stream",
     "text": [
      "12 is too big!\n"
     ]
    }
   ],
   "source": [
    "# 10보다 큰 숫자가 들어오면 멈추는 반복문 작성\n",
    "\n",
    "max = 10\n",
    "\n",
    "while True:\n",
    "  num = int(input())\n",
    "  if num > max:\n",
    "    print(num, 'is too big!')\n",
    "    break"
   ]
  }
 ],
 "metadata": {
  "kernelspec": {
   "display_name": "Python 3.9.2 64-bit",
   "language": "python",
   "name": "python3"
  },
  "language_info": {
   "codemirror_mode": {
    "name": "ipython",
    "version": 3
   },
   "file_extension": ".py",
   "mimetype": "text/x-python",
   "name": "python",
   "nbconvert_exporter": "python",
   "pygments_lexer": "ipython3",
   "version": "3.9.2"
  },
  "orig_nbformat": 4,
  "vscode": {
   "interpreter": {
    "hash": "3fbd834a686ec15c9fa41c41b5f586855b44dc94b320ac34b07de7346b7d4e7f"
   }
  }
 },
 "nbformat": 4,
 "nbformat_minor": 2
}
